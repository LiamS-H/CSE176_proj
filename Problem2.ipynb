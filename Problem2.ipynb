{
 "cells": [
  {
   "cell_type": "code",
   "execution_count": 178,
   "metadata": {},
   "outputs": [],
   "source": [
    "from sklearn.utils import shuffle\n",
    "import matplotlib.pyplot as plt\n",
    "import scipy.io as sio\n",
    "import numpy as np\n",
    "import pickle\n",
    "# import xgboost as xgb\n",
    "from xgboost import XGBClassifier"
   ]
  },
  {
   "cell_type": "code",
   "execution_count": 179,
   "metadata": {},
   "outputs": [],
   "source": [
    "MNIST = sio.loadmat('MNIST.mat')\n",
    "MNIST.keys()\n",
    "\n",
    "listofboosts = []"
   ]
  },
  {
   "cell_type": "code",
   "execution_count": 180,
   "metadata": {},
   "outputs": [],
   "source": [
    "# load feature and class vectors from MNISTmini\n",
    "trainFea = MNIST['train_fea']\n",
    "trainClass = MNIST['train_gnd']\n",
    "testFea = MNIST['test_fea']\n",
    "testClass = MNIST['test_gnd']\n",
    "\n",
    "trainClass -= 1\n",
    "testClass -= 1"
   ]
  },
  {
   "cell_type": "code",
   "execution_count": 181,
   "metadata": {},
   "outputs": [],
   "source": [
    "# shuffle and crop data to include random points\n",
    "trainFea, trainClass = shuffle(trainFea, trainClass, random_state=0)\n",
    "testFea, testClass = shuffle(testFea, testClass, random_state=0)\n",
    "trainFea, trainClass = trainFea[0:60000], trainClass[0:60000]\n",
    "testFea, testClass = testFea[0:10000], testClass[0:10000]"
   ]
  },
  {
   "cell_type": "code",
   "execution_count": 182,
   "metadata": {},
   "outputs": [],
   "source": [
    "for item in (range(10, 30, 5)):\n",
    "    xgboost = XGBClassifier(max_leaves = item)\n",
    "    listofboosts.append(xgboost)\n",
    "\n",
    "#pickle.dump(xgboost, \"xgboost_classifier.pkl\", \"wb\")\n",
    "#trn_model = pickle.load(\"xgboost_classifier.pkl\", \"rb\")"
   ]
  },
  {
   "cell_type": "code",
   "execution_count": 183,
   "metadata": {},
   "outputs": [],
   "source": [
    "for xgboost in listofboosts:\n",
    "    xgboost.fit(trainFea, trainClass.ravel())"
   ]
  },
  {
   "cell_type": "code",
   "execution_count": 184,
   "metadata": {},
   "outputs": [
    {
     "data": {
      "text/plain": [
       "[0.021100000000000008,\n",
       " 0.021100000000000008,\n",
       " 0.021100000000000008,\n",
       " 0.021100000000000008]"
      ]
     },
     "execution_count": 184,
     "metadata": {},
     "output_type": "execute_result"
    }
   ],
   "source": [
    "output_score_test = []\n",
    "output_score_validation = []\n",
    "output_hparam = []\n",
    "\n",
    "for xgboost in listofboosts:\n",
    "    \n",
    "    output_score_test.append(1-xgboost.score(testFea, testClass))\n",
    "    output_score_validation.append(1-xgboost.score(trainFea, trainClass))\n",
    "    output_hparam.append(xgboost.get_params()['max_leaves'])\n",
    "\n",
    "output_score_test\n"
   ]
  },
  {
   "cell_type": "code",
   "execution_count": 185,
   "metadata": {},
   "outputs": [
    {
     "data": {
      "text/plain": [
       "[0.0, 0.0, 0.0, 0.0]"
      ]
     },
     "execution_count": 185,
     "metadata": {},
     "output_type": "execute_result"
    }
   ],
   "source": [
    "output_score_validation"
   ]
  },
  {
   "cell_type": "code",
   "execution_count": 186,
   "metadata": {},
   "outputs": [
    {
     "data": {
      "text/plain": [
       "[10, 15, 20, 25]"
      ]
     },
     "execution_count": 186,
     "metadata": {},
     "output_type": "execute_result"
    }
   ],
   "source": [
    "output_hparam"
   ]
  },
  {
   "cell_type": "code",
   "execution_count": 187,
   "metadata": {},
   "outputs": [
    {
     "data": {
      "text/plain": [
       "[<matplotlib.lines.Line2D at 0x1929754b010>]"
      ]
     },
     "execution_count": 187,
     "metadata": {},
     "output_type": "execute_result"
    },
    {
     "data": {
      "image/png": "[encoded data removed]",
      "text/plain": [
       "<Figure size 640x480 with 1 Axes>"
      ]
     },
     "metadata": {},
     "output_type": "display_data"
    }
   ],
   "source": [
    "plt.plot(output_hparam, output_score_test, label=\"XGBoost\")\n",
    "plt.plot(output_hparam, output_score_validation, label=\"XGBoost\")"
   ]
  },
  {
   "cell_type": "code",
   "execution_count": null,
   "metadata": {},
   "outputs": [],
   "source": []
  }
 ],
 "metadata": {
  "kernelspec": {
   "display_name": "Python (GPU)",
   "language": "python",
   "name": "gpu_env"
  },
  "language_info": {
   "codemirror_mode": {
    "name": "ipython",
    "version": 3
   },
   "file_extension": ".py",
   "mimetype": "text/x-python",
   "name": "python",
   "nbconvert_exporter": "python",
   "pygments_lexer": "ipython3",
   "version": "3.11.4"
  }
 },
 "nbformat": 4,
 "nbformat_minor": 2
}
